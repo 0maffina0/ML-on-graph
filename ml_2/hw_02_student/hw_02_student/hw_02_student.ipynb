{
 "cells": [
  {
   "cell_type": "markdown",
   "id": "d4bdf002",
   "metadata": {},
   "source": [
    "# HW2: Разреженная аппроксимация Personalized PageRank и InstantEmbedding\n",
    "\n",
    "В этой тетради мы реализуем  метод InstantEmbedding -- алгоритм, строящий эмбеддинги **отдельных** вершин графа за время, **не зависящее от размера графа**. "
   ]
  },
  {
   "cell_type": "code",
   "id": "0f1552c8",
   "metadata": {
    "execution": {
     "iopub.status.busy": "2025-02-19T15:14:07.509151977Z",
     "iopub.status.idle": "2025-02-19T15:14:07.509368328Z",
     "shell.execute_reply": "2025-02-19T15:14:07.509147380Z"
    },
    "tags": [],
    "ExecuteTime": {
     "end_time": "2025-03-22T12:59:22.355323Z",
     "start_time": "2025-03-22T12:59:22.351706Z"
    }
   },
   "source": [
    "# !pip install numpy\n",
    "# !pip install scipy\n",
    "# !pip install scikit-learn\n",
    "# !pip install torch_geometric"
   ],
   "outputs": [],
   "execution_count": 399
  },
  {
   "cell_type": "code",
   "id": "716c3659",
   "metadata": {
    "ExecuteTime": {
     "end_time": "2025-03-22T12:59:22.376271Z",
     "start_time": "2025-03-22T12:59:22.369585Z"
    }
   },
   "source": "from torch_geometric import datasets",
   "outputs": [],
   "execution_count": 400
  },
  {
   "cell_type": "code",
   "id": "33f72568",
   "metadata": {
    "ExecuteTime": {
     "end_time": "2025-03-22T12:59:22.513374Z",
     "start_time": "2025-03-22T12:59:22.414800Z"
    }
   },
   "source": [
    "data = datasets.LastFMAsia(root='data/lastfm-asia')[0]\n",
    "labels = data.y\n",
    "edges_directed = data.edge_index.T.tolist()\n",
    "\n",
    "\n",
    "# The graph is undirected, but is stored as a directed one (like all graphs in PyTorch Geometric),\n",
    "# so each edge appears twice.\n",
    "print(f'Number of nodes: {len(labels)}')\n",
    "print(f'Number of edges: {len(edges_directed) // 2}')\n",
    "print(f'Average node degree: {len(edges_directed) / len(labels):.2f}')\n",
    "print(f'Number of classes: {len(labels.unique())}')"
   ],
   "outputs": [
    {
     "name": "stdout",
     "output_type": "stream",
     "text": [
      "Number of nodes: 7624\n",
      "Number of edges: 27806\n",
      "Average node degree: 7.29\n",
      "Number of classes: 18\n"
     ]
    }
   ],
   "execution_count": 401
  },
  {
   "cell_type": "markdown",
   "id": "19e29a80",
   "metadata": {},
   "source": [
    "## Часть 1: Разреженная аппроксимация Personalized PageRank"
   ]
  },
  {
   "cell_type": "markdown",
   "id": "54944a88-3e4f-47e8-8a53-36875b9d42d1",
   "metadata": {},
   "source": [
    "Целевой алгоритм описан в [этой статье](https://mathweb.ucsd.edu/~fan/wp/localpartfull.pdf) -- изучите разделы 2 и 3, а также лемму 5 на странице 14. \n",
    "\n",
    "Сначала проделаем некоторую предварительную работу -- преобразуйте представление графа из списка ребер в список смежности:"
   ]
  },
  {
   "cell_type": "code",
   "id": "9313a5f5",
   "metadata": {
    "ExecuteTime": {
     "end_time": "2025-03-22T12:59:22.636726Z",
     "start_time": "2025-03-22T12:59:22.605699Z"
    }
   },
   "source": [
    "graph = [[] for _ in range(len(labels))]\n",
    "for u, v in edges_directed:\n",
    "    graph[u].append(v)\n"
   ],
   "outputs": [],
   "execution_count": 402
  },
  {
   "cell_type": "markdown",
   "id": "6fd94c9c",
   "metadata": {},
   "source": [
    "Воспользуемся стандартным значением гиперпараметра $\\alpha=0.15$. Обратите внимание, что в статье используется альтернативное определение Personalized PageRank, которое требует изменения $\\alpha$ для получения традиционной версии Personalized PageRank:"
   ]
  },
  {
   "cell_type": "code",
   "id": "279aab75",
   "metadata": {
    "ExecuteTime": {
     "end_time": "2025-03-22T12:59:22.696850Z",
     "start_time": "2025-03-22T12:59:22.686352Z"
    }
   },
   "source": [
    "alpha_orig = 0.15\n",
    "alpha = alpha_orig / (2 - alpha_orig)\n",
    "alpha"
   ],
   "outputs": [
    {
     "data": {
      "text/plain": [
       "0.08108108108108107"
      ]
     },
     "execution_count": 403,
     "metadata": {},
     "output_type": "execute_result"
    }
   ],
   "execution_count": 403
  },
  {
   "cell_type": "markdown",
   "id": "6fed433f",
   "metadata": {},
   "source": [
    "Реализуйте ниже разреженную аппроксимацию PPR, используя стандартные библиотеки Python. \n",
    "\n",
    "Примечания:\n",
    "- Время выполнения алгоритма не должно зависеть от размера графа (= не перебирайте все вершины в графе).\n",
    "- Обратите внимание, что вы можете получить разные результаты в зависимости от порядка обработки вершин.\n",
    "- Для лучшей производительности мы рекомендуем не добавлять в очередь уже имеющиеся там вершины (не забудьте написать быструю проверку этого условия).\n",
    "\n",
    "На самом деле алгоритм может быть эффективно реализован и без очереди -- вы можете использовать любой подход."
   ]
  },
  {
   "cell_type": "code",
   "id": "5cf2a3b2",
   "metadata": {
    "ExecuteTime": {
     "end_time": "2025-03-22T12:59:22.752845Z",
     "start_time": "2025-03-22T12:59:22.745920Z"
    }
   },
   "source": [
    "from collections import deque, defaultdict"
   ],
   "outputs": [],
   "execution_count": 404
  },
  {
   "cell_type": "code",
   "id": "ca1ef655",
   "metadata": {
    "ExecuteTime": {
     "end_time": "2025-03-22T12:59:22.790895Z",
     "start_time": "2025-03-22T12:59:22.780220Z"
    }
   },
   "source": [
    "def sparse_approx_ppr(graph, s, alpha=alpha, eps=1e-3):\n",
    "    \"\"\"\n",
    "    Compute sparse approximate Personalized PageRank for starting distribution s.\n",
    "    \n",
    "    Returns:\n",
    "        p - a defaultdict (with zero default value) representation of the PPR vector p. The keys are nodes\n",
    "            and the values are PPR probabilities.\n",
    "        r - a defaultdict (with zero default value) representation of the r vector at the end of the algorithm.\n",
    "            The keys are nodes and the values are the probabilities that remain in the r vector for these nodes.\n",
    "    \"\"\"\n",
    "\n",
    "    #Погнали пупупупу\n",
    "    #Жаль материться нельзя, описания были бы красочнее:3\n",
    "\n",
    "    p = defaultdict(float)\n",
    "    r = defaultdict(float)\n",
    "    \n",
    "    #Ну тут просто кидаем стартовый вектор s в r\n",
    "    for v, val in s.items():\n",
    "        r[v] = val\n",
    "    \n",
    "    #Очередь для избранных, йоу\n",
    "    queue = deque()\n",
    "    in_queue = set()\n",
    "    \n",
    "    #Функция чтобы все избранные попали в очередь, йоу, а я репер.\n",
    "    def add_to_queue(v):\n",
    "        if v not in in_queue and r[v] >= eps * len(graph[v]):\n",
    "            queue.append(v)\n",
    "            in_queue.add(v)\n",
    "    \n",
    "    #Теперь в очереди челики из самого начального вектора\n",
    "    for v in r:\n",
    "        add_to_queue(v)\n",
    "    \n",
    "    #Пусть будет обозначение u, а то иначе я путаюсь, со своей привычкой называть вершины графа как v и w. Делаем все по методичке.\n",
    "    #Такс, ну пока в очереди есть избранные челики, то мы шаманим пупупупу:\n",
    "    while queue:\n",
    "        u = queue.popleft()\n",
    "        in_queue.remove(u)\n",
    "        \n",
    "        r_u = r[u]\n",
    "        deg_u = len(graph[u])\n",
    "        \n",
    "        if r_u >= eps * deg_u:\n",
    "            p[u] = p[u] + alpha * r_u\n",
    "            \n",
    "            #Тут у нас остаток, половина остатка идет в r_u, а другая половина идет по соседям, йоу, треш:\n",
    "            leftover = (1.0 - alpha) * r_u\n",
    "            half_left = leftover / 2.0\n",
    "            r[u] = half_left\n",
    "            \n",
    "            share = 0.0\n",
    "            if deg_u > 0:\n",
    "                share = half_left / deg_u\n",
    "            for v in graph[u]:\n",
    "                r[v] += share\n",
    "                if v not in in_queue and r[v] >= eps * len(graph[v]):\n",
    "                    queue.append(v)\n",
    "                    in_queue.add(v)\n",
    "            \n",
    "            #Проверочка для u\n",
    "            if r[u] >= eps * deg_u and u not in in_queue:\n",
    "                queue.append(u)\n",
    "                in_queue.add(u)\n",
    "            \n",
    "    return p, r\n"
   ],
   "outputs": [],
   "execution_count": 405
  },
  {
   "cell_type": "code",
   "id": "fe969853",
   "metadata": {
    "ExecuteTime": {
     "end_time": "2025-03-22T12:59:22.819729Z",
     "start_time": "2025-03-22T12:59:22.815575Z"
    }
   },
   "source": [
    "import pickle\n",
    "from tqdm.notebook import tqdm"
   ],
   "outputs": [],
   "execution_count": 406
  },
  {
   "cell_type": "code",
   "id": "9e8b8692",
   "metadata": {
    "ExecuteTime": {
     "end_time": "2025-03-22T12:59:22.853149Z",
     "start_time": "2025-03-22T12:59:22.847306Z"
    }
   },
   "source": [
    "test_nodes = [0, 1, 2, 3, 4, 5, 6, 7, 8, 9, 10, 100, 200, 300, 329, 400, 500, 518, 524, 600, 700, 800, 900, 1000,\n",
    "              1351, 1738, 2000, 2376, 2510, 2854, 3000, 3061, 3450, 3530, 3597, 3720, 4000, 4301, 4785, 5000,\n",
    "              5127,  5392, 6000, 6101, 6407, 7000, 7237]"
   ],
   "outputs": [],
   "execution_count": 407
  },
  {
   "cell_type": "code",
   "id": "9548ae3a",
   "metadata": {
    "ExecuteTime": {
     "end_time": "2025-03-22T12:59:22.882437Z",
     "start_time": "2025-03-22T12:59:22.875224Z"
    }
   },
   "source": [
    "with open('data/lastfm-asia/sparse_approx_ppr.pickle', 'rb') as file:\n",
    "    ppr_list_gt = pickle.load(file)"
   ],
   "outputs": [],
   "execution_count": 408
  },
  {
   "cell_type": "code",
   "id": "a24d3260",
   "metadata": {
    "ExecuteTime": {
     "end_time": "2025-03-22T12:59:22.917113Z",
     "start_time": "2025-03-22T12:59:22.912611Z"
    }
   },
   "source": [
    "def compute_defaultdict_diff_norm(defaultdict_1, defaultdict_2):\n",
    "    all_keys = set(list(defaultdict_1.keys()) + list(defaultdict_2.keys()))\n",
    "    diff_dict = {key: defaultdict_1[key] - defaultdict_2[key] for key in all_keys}\n",
    "    norm = sum(val ** 2 for val in diff_dict.values())\n",
    "    \n",
    "    return norm\n"
   ],
   "outputs": [],
   "execution_count": 409
  },
  {
   "cell_type": "code",
   "id": "ab120133",
   "metadata": {
    "ExecuteTime": {
     "end_time": "2025-03-22T12:59:23.024531Z",
     "start_time": "2025-03-22T12:59:22.949105Z"
    }
   },
   "source": [
    "for i, v in enumerate(tqdm(test_nodes)):\n",
    "    s = {v: 1}\n",
    "    ppr, r = sparse_approx_ppr(graph, s)\n",
    "    \n",
    "    assert abs(sum(ppr.values()) + sum(r.values()) - 1) < 1e-10\n",
    "    \n",
    "    ppr_gt = ppr_list_gt[i]\n",
    "    diff_norm = compute_defaultdict_diff_norm(ppr, ppr_gt)\n",
    "    assert diff_norm < 3e-3\n"
   ],
   "outputs": [
    {
     "data": {
      "text/plain": [
       "  0%|          | 0/47 [00:00<?, ?it/s]"
      ],
      "application/vnd.jupyter.widget-view+json": {
       "version_major": 2,
       "version_minor": 0,
       "model_id": "22aa0994b5724ed2ba46d140fc2a8298"
      }
     },
     "metadata": {},
     "output_type": "display_data"
    }
   ],
   "execution_count": 410
  },
  {
   "cell_type": "markdown",
   "id": "781d9f1d",
   "metadata": {},
   "source": [
    "Теперь у нас есть быстрый способ вычислить разреженную аппроксимацию PPR эмбеддингов для вершин нашего графа. Давайте вычислим все эмбеддинги вершин и используем их в качестве входных данных для логистической регрессии.\n",
    "\n",
    "Ввиду разреженности эмбеддингов их хранение в матрице будет расточительно: постройте разреженную $n \\times n$ матрицу с эмбеддингами вершин, где $i$-я строка является эмбеддингом $i$-ой вершины. Используйте класс [scipy.sparse.csr_array](https://docs.scipy.org/doc/scipy/reference/generated/scipy.sparse.csr_array.html)."
   ]
  },
  {
   "cell_type": "code",
   "id": "c1cf11f5",
   "metadata": {
    "ExecuteTime": {
     "end_time": "2025-03-22T12:59:23.065323Z",
     "start_time": "2025-03-22T12:59:23.061385Z"
    }
   },
   "source": [
    "import numpy as np\n",
    "from scipy import sparse"
   ],
   "outputs": [],
   "execution_count": 411
  },
  {
   "cell_type": "code",
   "id": "2238d47e",
   "metadata": {
    "ExecuteTime": {
     "end_time": "2025-03-22T12:59:27.402829Z",
     "start_time": "2025-03-22T12:59:23.093132Z"
    }
   },
   "source": [
    "n = len(labels) \n",
    "row = []\n",
    "col = []\n",
    "data = []\n",
    "\n",
    "for i in range(n):\n",
    "    p, r = sparse_approx_ppr(graph, s = {i: 1})\n",
    "    \n",
    "    for j, val in p.items():\n",
    "        row.append(i)\n",
    "        col.append(j)\n",
    "        data.append(val)\n",
    "\n",
    "embeddings = sparse.csr_array((np.array(data), (np.array(row), np.array(col))),shape=(n, n))"
   ],
   "outputs": [],
   "execution_count": 412
  },
  {
   "cell_type": "code",
   "id": "437761a1",
   "metadata": {
    "ExecuteTime": {
     "end_time": "2025-03-22T12:59:27.433007Z",
     "start_time": "2025-03-22T12:59:27.426481Z"
    }
   },
   "source": [
    "nonzero_share =  embeddings.nnz / (embeddings.shape[0] * embeddings.shape[1])\n",
    "print(f'{nonzero_share:.4f} of values in the embeddings matrix is non-zero.')"
   ],
   "outputs": [
    {
     "name": "stdout",
     "output_type": "stream",
     "text": [
      "0.0046 of values in the embeddings matrix is non-zero.\n"
     ]
    }
   ],
   "execution_count": 413
  },
  {
   "cell_type": "code",
   "id": "02541c34",
   "metadata": {
    "ExecuteTime": {
     "end_time": "2025-03-22T12:59:27.505277Z",
     "start_time": "2025-03-22T12:59:27.468004Z"
    }
   },
   "source": [
    "embeddings_gt = sparse.load_npz('data/lastfm-asia/sparse_embeddings.npz')"
   ],
   "outputs": [],
   "execution_count": 414
  },
  {
   "cell_type": "code",
   "id": "1b93a682",
   "metadata": {
    "ExecuteTime": {
     "end_time": "2025-03-22T12:59:27.549890Z",
     "start_time": "2025-03-22T12:59:27.531032Z"
    }
   },
   "source": [
    "assert ((embeddings - embeddings_gt) ** 2).sum() < 100"
   ],
   "outputs": [],
   "execution_count": 415
  },
  {
   "cell_type": "code",
   "id": "152dfac4",
   "metadata": {
    "ExecuteTime": {
     "end_time": "2025-03-22T12:59:27.576811Z",
     "start_time": "2025-03-22T12:59:27.571130Z"
    }
   },
   "source": [
    "from sklearn.model_selection import train_test_split\n",
    "from sklearn.linear_model import LogisticRegression"
   ],
   "outputs": [],
   "execution_count": 416
  },
  {
   "cell_type": "code",
   "id": "ff0405de",
   "metadata": {
    "ExecuteTime": {
     "end_time": "2025-03-22T12:59:27.619005Z",
     "start_time": "2025-03-22T12:59:27.602694Z"
    }
   },
   "source": [
    "labels = labels.numpy()\n",
    "\n",
    "# Create the same split as in the seminar.\n",
    "full_idx = np.arange(len(labels))\n",
    "train_idx, test_idx = train_test_split(full_idx, test_size=0.75, stratify=labels, random_state=0)"
   ],
   "outputs": [],
   "execution_count": 417
  },
  {
   "cell_type": "code",
   "id": "d08ccab2",
   "metadata": {
    "ExecuteTime": {
     "end_time": "2025-03-22T12:59:27.651291Z",
     "start_time": "2025-03-22T12:59:27.643292Z"
    }
   },
   "source": [
    "embeddings_train = embeddings[train_idx]\n",
    "labels_train = labels[train_idx]\n",
    "\n",
    "embeddings_test = embeddings[test_idx]\n",
    "labels_test = labels[test_idx]"
   ],
   "outputs": [],
   "execution_count": 418
  },
  {
   "cell_type": "code",
   "id": "3937999f",
   "metadata": {
    "ExecuteTime": {
     "end_time": "2025-03-22T12:59:31.061011Z",
     "start_time": "2025-03-22T12:59:27.682641Z"
    }
   },
   "source": [
    "logreg = LogisticRegression(penalty='l2', C=1000, solver='lbfgs', max_iter=1000)\n",
    "logreg.fit(embeddings_train, labels_train)"
   ],
   "outputs": [
    {
     "data": {
      "text/plain": [
       "LogisticRegression(C=1000, max_iter=1000)"
      ],
      "text/html": [
       "<style>#sk-container-id-9 {\n",
       "  /* Definition of color scheme common for light and dark mode */\n",
       "  --sklearn-color-text: #000;\n",
       "  --sklearn-color-text-muted: #666;\n",
       "  --sklearn-color-line: gray;\n",
       "  /* Definition of color scheme for unfitted estimators */\n",
       "  --sklearn-color-unfitted-level-0: #fff5e6;\n",
       "  --sklearn-color-unfitted-level-1: #f6e4d2;\n",
       "  --sklearn-color-unfitted-level-2: #ffe0b3;\n",
       "  --sklearn-color-unfitted-level-3: chocolate;\n",
       "  /* Definition of color scheme for fitted estimators */\n",
       "  --sklearn-color-fitted-level-0: #f0f8ff;\n",
       "  --sklearn-color-fitted-level-1: #d4ebff;\n",
       "  --sklearn-color-fitted-level-2: #b3dbfd;\n",
       "  --sklearn-color-fitted-level-3: cornflowerblue;\n",
       "\n",
       "  /* Specific color for light theme */\n",
       "  --sklearn-color-text-on-default-background: var(--sg-text-color, var(--theme-code-foreground, var(--jp-content-font-color1, black)));\n",
       "  --sklearn-color-background: var(--sg-background-color, var(--theme-background, var(--jp-layout-color0, white)));\n",
       "  --sklearn-color-border-box: var(--sg-text-color, var(--theme-code-foreground, var(--jp-content-font-color1, black)));\n",
       "  --sklearn-color-icon: #696969;\n",
       "\n",
       "  @media (prefers-color-scheme: dark) {\n",
       "    /* Redefinition of color scheme for dark theme */\n",
       "    --sklearn-color-text-on-default-background: var(--sg-text-color, var(--theme-code-foreground, var(--jp-content-font-color1, white)));\n",
       "    --sklearn-color-background: var(--sg-background-color, var(--theme-background, var(--jp-layout-color0, #111)));\n",
       "    --sklearn-color-border-box: var(--sg-text-color, var(--theme-code-foreground, var(--jp-content-font-color1, white)));\n",
       "    --sklearn-color-icon: #878787;\n",
       "  }\n",
       "}\n",
       "\n",
       "#sk-container-id-9 {\n",
       "  color: var(--sklearn-color-text);\n",
       "}\n",
       "\n",
       "#sk-container-id-9 pre {\n",
       "  padding: 0;\n",
       "}\n",
       "\n",
       "#sk-container-id-9 input.sk-hidden--visually {\n",
       "  border: 0;\n",
       "  clip: rect(1px 1px 1px 1px);\n",
       "  clip: rect(1px, 1px, 1px, 1px);\n",
       "  height: 1px;\n",
       "  margin: -1px;\n",
       "  overflow: hidden;\n",
       "  padding: 0;\n",
       "  position: absolute;\n",
       "  width: 1px;\n",
       "}\n",
       "\n",
       "#sk-container-id-9 div.sk-dashed-wrapped {\n",
       "  border: 1px dashed var(--sklearn-color-line);\n",
       "  margin: 0 0.4em 0.5em 0.4em;\n",
       "  box-sizing: border-box;\n",
       "  padding-bottom: 0.4em;\n",
       "  background-color: var(--sklearn-color-background);\n",
       "}\n",
       "\n",
       "#sk-container-id-9 div.sk-container {\n",
       "  /* jupyter's `normalize.less` sets `[hidden] { display: none; }`\n",
       "     but bootstrap.min.css set `[hidden] { display: none !important; }`\n",
       "     so we also need the `!important` here to be able to override the\n",
       "     default hidden behavior on the sphinx rendered scikit-learn.org.\n",
       "     See: https://github.com/scikit-learn/scikit-learn/issues/21755 */\n",
       "  display: inline-block !important;\n",
       "  position: relative;\n",
       "}\n",
       "\n",
       "#sk-container-id-9 div.sk-text-repr-fallback {\n",
       "  display: none;\n",
       "}\n",
       "\n",
       "div.sk-parallel-item,\n",
       "div.sk-serial,\n",
       "div.sk-item {\n",
       "  /* draw centered vertical line to link estimators */\n",
       "  background-image: linear-gradient(var(--sklearn-color-text-on-default-background), var(--sklearn-color-text-on-default-background));\n",
       "  background-size: 2px 100%;\n",
       "  background-repeat: no-repeat;\n",
       "  background-position: center center;\n",
       "}\n",
       "\n",
       "/* Parallel-specific style estimator block */\n",
       "\n",
       "#sk-container-id-9 div.sk-parallel-item::after {\n",
       "  content: \"\";\n",
       "  width: 100%;\n",
       "  border-bottom: 2px solid var(--sklearn-color-text-on-default-background);\n",
       "  flex-grow: 1;\n",
       "}\n",
       "\n",
       "#sk-container-id-9 div.sk-parallel {\n",
       "  display: flex;\n",
       "  align-items: stretch;\n",
       "  justify-content: center;\n",
       "  background-color: var(--sklearn-color-background);\n",
       "  position: relative;\n",
       "}\n",
       "\n",
       "#sk-container-id-9 div.sk-parallel-item {\n",
       "  display: flex;\n",
       "  flex-direction: column;\n",
       "}\n",
       "\n",
       "#sk-container-id-9 div.sk-parallel-item:first-child::after {\n",
       "  align-self: flex-end;\n",
       "  width: 50%;\n",
       "}\n",
       "\n",
       "#sk-container-id-9 div.sk-parallel-item:last-child::after {\n",
       "  align-self: flex-start;\n",
       "  width: 50%;\n",
       "}\n",
       "\n",
       "#sk-container-id-9 div.sk-parallel-item:only-child::after {\n",
       "  width: 0;\n",
       "}\n",
       "\n",
       "/* Serial-specific style estimator block */\n",
       "\n",
       "#sk-container-id-9 div.sk-serial {\n",
       "  display: flex;\n",
       "  flex-direction: column;\n",
       "  align-items: center;\n",
       "  background-color: var(--sklearn-color-background);\n",
       "  padding-right: 1em;\n",
       "  padding-left: 1em;\n",
       "}\n",
       "\n",
       "\n",
       "/* Toggleable style: style used for estimator/Pipeline/ColumnTransformer box that is\n",
       "clickable and can be expanded/collapsed.\n",
       "- Pipeline and ColumnTransformer use this feature and define the default style\n",
       "- Estimators will overwrite some part of the style using the `sk-estimator` class\n",
       "*/\n",
       "\n",
       "/* Pipeline and ColumnTransformer style (default) */\n",
       "\n",
       "#sk-container-id-9 div.sk-toggleable {\n",
       "  /* Default theme specific background. It is overwritten whether we have a\n",
       "  specific estimator or a Pipeline/ColumnTransformer */\n",
       "  background-color: var(--sklearn-color-background);\n",
       "}\n",
       "\n",
       "/* Toggleable label */\n",
       "#sk-container-id-9 label.sk-toggleable__label {\n",
       "  cursor: pointer;\n",
       "  display: flex;\n",
       "  width: 100%;\n",
       "  margin-bottom: 0;\n",
       "  padding: 0.5em;\n",
       "  box-sizing: border-box;\n",
       "  text-align: center;\n",
       "  align-items: start;\n",
       "  justify-content: space-between;\n",
       "  gap: 0.5em;\n",
       "}\n",
       "\n",
       "#sk-container-id-9 label.sk-toggleable__label .caption {\n",
       "  font-size: 0.6rem;\n",
       "  font-weight: lighter;\n",
       "  color: var(--sklearn-color-text-muted);\n",
       "}\n",
       "\n",
       "#sk-container-id-9 label.sk-toggleable__label-arrow:before {\n",
       "  /* Arrow on the left of the label */\n",
       "  content: \"▸\";\n",
       "  float: left;\n",
       "  margin-right: 0.25em;\n",
       "  color: var(--sklearn-color-icon);\n",
       "}\n",
       "\n",
       "#sk-container-id-9 label.sk-toggleable__label-arrow:hover:before {\n",
       "  color: var(--sklearn-color-text);\n",
       "}\n",
       "\n",
       "/* Toggleable content - dropdown */\n",
       "\n",
       "#sk-container-id-9 div.sk-toggleable__content {\n",
       "  max-height: 0;\n",
       "  max-width: 0;\n",
       "  overflow: hidden;\n",
       "  text-align: left;\n",
       "  /* unfitted */\n",
       "  background-color: var(--sklearn-color-unfitted-level-0);\n",
       "}\n",
       "\n",
       "#sk-container-id-9 div.sk-toggleable__content.fitted {\n",
       "  /* fitted */\n",
       "  background-color: var(--sklearn-color-fitted-level-0);\n",
       "}\n",
       "\n",
       "#sk-container-id-9 div.sk-toggleable__content pre {\n",
       "  margin: 0.2em;\n",
       "  border-radius: 0.25em;\n",
       "  color: var(--sklearn-color-text);\n",
       "  /* unfitted */\n",
       "  background-color: var(--sklearn-color-unfitted-level-0);\n",
       "}\n",
       "\n",
       "#sk-container-id-9 div.sk-toggleable__content.fitted pre {\n",
       "  /* unfitted */\n",
       "  background-color: var(--sklearn-color-fitted-level-0);\n",
       "}\n",
       "\n",
       "#sk-container-id-9 input.sk-toggleable__control:checked~div.sk-toggleable__content {\n",
       "  /* Expand drop-down */\n",
       "  max-height: 200px;\n",
       "  max-width: 100%;\n",
       "  overflow: auto;\n",
       "}\n",
       "\n",
       "#sk-container-id-9 input.sk-toggleable__control:checked~label.sk-toggleable__label-arrow:before {\n",
       "  content: \"▾\";\n",
       "}\n",
       "\n",
       "/* Pipeline/ColumnTransformer-specific style */\n",
       "\n",
       "#sk-container-id-9 div.sk-label input.sk-toggleable__control:checked~label.sk-toggleable__label {\n",
       "  color: var(--sklearn-color-text);\n",
       "  background-color: var(--sklearn-color-unfitted-level-2);\n",
       "}\n",
       "\n",
       "#sk-container-id-9 div.sk-label.fitted input.sk-toggleable__control:checked~label.sk-toggleable__label {\n",
       "  background-color: var(--sklearn-color-fitted-level-2);\n",
       "}\n",
       "\n",
       "/* Estimator-specific style */\n",
       "\n",
       "/* Colorize estimator box */\n",
       "#sk-container-id-9 div.sk-estimator input.sk-toggleable__control:checked~label.sk-toggleable__label {\n",
       "  /* unfitted */\n",
       "  background-color: var(--sklearn-color-unfitted-level-2);\n",
       "}\n",
       "\n",
       "#sk-container-id-9 div.sk-estimator.fitted input.sk-toggleable__control:checked~label.sk-toggleable__label {\n",
       "  /* fitted */\n",
       "  background-color: var(--sklearn-color-fitted-level-2);\n",
       "}\n",
       "\n",
       "#sk-container-id-9 div.sk-label label.sk-toggleable__label,\n",
       "#sk-container-id-9 div.sk-label label {\n",
       "  /* The background is the default theme color */\n",
       "  color: var(--sklearn-color-text-on-default-background);\n",
       "}\n",
       "\n",
       "/* On hover, darken the color of the background */\n",
       "#sk-container-id-9 div.sk-label:hover label.sk-toggleable__label {\n",
       "  color: var(--sklearn-color-text);\n",
       "  background-color: var(--sklearn-color-unfitted-level-2);\n",
       "}\n",
       "\n",
       "/* Label box, darken color on hover, fitted */\n",
       "#sk-container-id-9 div.sk-label.fitted:hover label.sk-toggleable__label.fitted {\n",
       "  color: var(--sklearn-color-text);\n",
       "  background-color: var(--sklearn-color-fitted-level-2);\n",
       "}\n",
       "\n",
       "/* Estimator label */\n",
       "\n",
       "#sk-container-id-9 div.sk-label label {\n",
       "  font-family: monospace;\n",
       "  font-weight: bold;\n",
       "  display: inline-block;\n",
       "  line-height: 1.2em;\n",
       "}\n",
       "\n",
       "#sk-container-id-9 div.sk-label-container {\n",
       "  text-align: center;\n",
       "}\n",
       "\n",
       "/* Estimator-specific */\n",
       "#sk-container-id-9 div.sk-estimator {\n",
       "  font-family: monospace;\n",
       "  border: 1px dotted var(--sklearn-color-border-box);\n",
       "  border-radius: 0.25em;\n",
       "  box-sizing: border-box;\n",
       "  margin-bottom: 0.5em;\n",
       "  /* unfitted */\n",
       "  background-color: var(--sklearn-color-unfitted-level-0);\n",
       "}\n",
       "\n",
       "#sk-container-id-9 div.sk-estimator.fitted {\n",
       "  /* fitted */\n",
       "  background-color: var(--sklearn-color-fitted-level-0);\n",
       "}\n",
       "\n",
       "/* on hover */\n",
       "#sk-container-id-9 div.sk-estimator:hover {\n",
       "  /* unfitted */\n",
       "  background-color: var(--sklearn-color-unfitted-level-2);\n",
       "}\n",
       "\n",
       "#sk-container-id-9 div.sk-estimator.fitted:hover {\n",
       "  /* fitted */\n",
       "  background-color: var(--sklearn-color-fitted-level-2);\n",
       "}\n",
       "\n",
       "/* Specification for estimator info (e.g. \"i\" and \"?\") */\n",
       "\n",
       "/* Common style for \"i\" and \"?\" */\n",
       "\n",
       ".sk-estimator-doc-link,\n",
       "a:link.sk-estimator-doc-link,\n",
       "a:visited.sk-estimator-doc-link {\n",
       "  float: right;\n",
       "  font-size: smaller;\n",
       "  line-height: 1em;\n",
       "  font-family: monospace;\n",
       "  background-color: var(--sklearn-color-background);\n",
       "  border-radius: 1em;\n",
       "  height: 1em;\n",
       "  width: 1em;\n",
       "  text-decoration: none !important;\n",
       "  margin-left: 0.5em;\n",
       "  text-align: center;\n",
       "  /* unfitted */\n",
       "  border: var(--sklearn-color-unfitted-level-1) 1pt solid;\n",
       "  color: var(--sklearn-color-unfitted-level-1);\n",
       "}\n",
       "\n",
       ".sk-estimator-doc-link.fitted,\n",
       "a:link.sk-estimator-doc-link.fitted,\n",
       "a:visited.sk-estimator-doc-link.fitted {\n",
       "  /* fitted */\n",
       "  border: var(--sklearn-color-fitted-level-1) 1pt solid;\n",
       "  color: var(--sklearn-color-fitted-level-1);\n",
       "}\n",
       "\n",
       "/* On hover */\n",
       "div.sk-estimator:hover .sk-estimator-doc-link:hover,\n",
       ".sk-estimator-doc-link:hover,\n",
       "div.sk-label-container:hover .sk-estimator-doc-link:hover,\n",
       ".sk-estimator-doc-link:hover {\n",
       "  /* unfitted */\n",
       "  background-color: var(--sklearn-color-unfitted-level-3);\n",
       "  color: var(--sklearn-color-background);\n",
       "  text-decoration: none;\n",
       "}\n",
       "\n",
       "div.sk-estimator.fitted:hover .sk-estimator-doc-link.fitted:hover,\n",
       ".sk-estimator-doc-link.fitted:hover,\n",
       "div.sk-label-container:hover .sk-estimator-doc-link.fitted:hover,\n",
       ".sk-estimator-doc-link.fitted:hover {\n",
       "  /* fitted */\n",
       "  background-color: var(--sklearn-color-fitted-level-3);\n",
       "  color: var(--sklearn-color-background);\n",
       "  text-decoration: none;\n",
       "}\n",
       "\n",
       "/* Span, style for the box shown on hovering the info icon */\n",
       ".sk-estimator-doc-link span {\n",
       "  display: none;\n",
       "  z-index: 9999;\n",
       "  position: relative;\n",
       "  font-weight: normal;\n",
       "  right: .2ex;\n",
       "  padding: .5ex;\n",
       "  margin: .5ex;\n",
       "  width: min-content;\n",
       "  min-width: 20ex;\n",
       "  max-width: 50ex;\n",
       "  color: var(--sklearn-color-text);\n",
       "  box-shadow: 2pt 2pt 4pt #999;\n",
       "  /* unfitted */\n",
       "  background: var(--sklearn-color-unfitted-level-0);\n",
       "  border: .5pt solid var(--sklearn-color-unfitted-level-3);\n",
       "}\n",
       "\n",
       ".sk-estimator-doc-link.fitted span {\n",
       "  /* fitted */\n",
       "  background: var(--sklearn-color-fitted-level-0);\n",
       "  border: var(--sklearn-color-fitted-level-3);\n",
       "}\n",
       "\n",
       ".sk-estimator-doc-link:hover span {\n",
       "  display: block;\n",
       "}\n",
       "\n",
       "/* \"?\"-specific style due to the `<a>` HTML tag */\n",
       "\n",
       "#sk-container-id-9 a.estimator_doc_link {\n",
       "  float: right;\n",
       "  font-size: 1rem;\n",
       "  line-height: 1em;\n",
       "  font-family: monospace;\n",
       "  background-color: var(--sklearn-color-background);\n",
       "  border-radius: 1rem;\n",
       "  height: 1rem;\n",
       "  width: 1rem;\n",
       "  text-decoration: none;\n",
       "  /* unfitted */\n",
       "  color: var(--sklearn-color-unfitted-level-1);\n",
       "  border: var(--sklearn-color-unfitted-level-1) 1pt solid;\n",
       "}\n",
       "\n",
       "#sk-container-id-9 a.estimator_doc_link.fitted {\n",
       "  /* fitted */\n",
       "  border: var(--sklearn-color-fitted-level-1) 1pt solid;\n",
       "  color: var(--sklearn-color-fitted-level-1);\n",
       "}\n",
       "\n",
       "/* On hover */\n",
       "#sk-container-id-9 a.estimator_doc_link:hover {\n",
       "  /* unfitted */\n",
       "  background-color: var(--sklearn-color-unfitted-level-3);\n",
       "  color: var(--sklearn-color-background);\n",
       "  text-decoration: none;\n",
       "}\n",
       "\n",
       "#sk-container-id-9 a.estimator_doc_link.fitted:hover {\n",
       "  /* fitted */\n",
       "  background-color: var(--sklearn-color-fitted-level-3);\n",
       "}\n",
       "</style><div id=\"sk-container-id-9\" class=\"sk-top-container\"><div class=\"sk-text-repr-fallback\"><pre>LogisticRegression(C=1000, max_iter=1000)</pre><b>In a Jupyter environment, please rerun this cell to show the HTML representation or trust the notebook. <br />On GitHub, the HTML representation is unable to render, please try loading this page with nbviewer.org.</b></div><div class=\"sk-container\" hidden><div class=\"sk-item\"><div class=\"sk-estimator fitted sk-toggleable\"><input class=\"sk-toggleable__control sk-hidden--visually\" id=\"sk-estimator-id-9\" type=\"checkbox\" checked><label for=\"sk-estimator-id-9\" class=\"sk-toggleable__label fitted sk-toggleable__label-arrow\"><div><div>LogisticRegression</div></div><div><a class=\"sk-estimator-doc-link fitted\" rel=\"noreferrer\" target=\"_blank\" href=\"https://scikit-learn.org/1.6/modules/generated/sklearn.linear_model.LogisticRegression.html\">?<span>Documentation for LogisticRegression</span></a><span class=\"sk-estimator-doc-link fitted\">i<span>Fitted</span></span></div></label><div class=\"sk-toggleable__content fitted\"><pre>LogisticRegression(C=1000, max_iter=1000)</pre></div> </div></div></div></div>"
      ]
     },
     "execution_count": 419,
     "metadata": {},
     "output_type": "execute_result"
    }
   ],
   "execution_count": 419
  },
  {
   "cell_type": "code",
   "id": "ada39957",
   "metadata": {
    "ExecuteTime": {
     "end_time": "2025-03-22T12:59:31.090971Z",
     "start_time": "2025-03-22T12:59:31.083964Z"
    }
   },
   "source": [
    "preds = logreg.predict(embeddings_test)"
   ],
   "outputs": [],
   "execution_count": 420
  },
  {
   "cell_type": "code",
   "id": "3968c9a5",
   "metadata": {
    "ExecuteTime": {
     "end_time": "2025-03-22T12:59:31.113840Z",
     "start_time": "2025-03-22T12:59:31.108229Z"
    }
   },
   "source": [
    "accuracy = (preds == labels_test).mean()\n",
    "print(f'sparse approx PPR + logistic regression accuracy: {accuracy:.4f}')"
   ],
   "outputs": [
    {
     "name": "stdout",
     "output_type": "stream",
     "text": [
      "sparse approx PPR + logistic regression accuracy: 0.7959\n"
     ]
    }
   ],
   "execution_count": 421
  },
  {
   "cell_type": "markdown",
   "id": "b25a7c43-c9b6-455f-83d5-98cc1ce367a1",
   "metadata": {},
   "source": [
    "Ожидаемое значение accuracy -- 0.79.\n"
   ]
  },
  {
   "cell_type": "markdown",
   "id": "5a88f473",
   "metadata": {},
   "source": [
    "Давайте проверим, возможно ли уменьшить размерность эмбеддингов без потери точности. Воспользуемся подходом из [статьи InstantEmbedding](https://arxiv.org/abs/2010.06992) — в ней описывается простое хеширование для уменьшения размерности эмбеддинга.\n",
    "\n",
    "Прочитайте статью и реализуйте две функции, которые генерируют хеш-функции из универсальных хеш-семейств. Примечания:\n",
    "- Вам не обязательно делать ваши универсальные хеш-семейства сложными\n",
    "- Вы можете предположить, что ваши хэш-функции не будут использоваться с графами, имеющими > 1 миллиарда вершин"
   ]
  },
  {
   "cell_type": "code",
   "id": "b6e69dfe",
   "metadata": {
    "ExecuteTime": {
     "end_time": "2025-03-22T12:59:31.138297Z",
     "start_time": "2025-03-22T12:59:31.133628Z"
    }
   },
   "source": [
    "import random"
   ],
   "outputs": [],
   "execution_count": 422
  },
  {
   "cell_type": "code",
   "id": "af8de689",
   "metadata": {
    "ExecuteTime": {
     "end_time": "2025-03-22T12:59:31.159548Z",
     "start_time": "2025-03-22T12:59:31.154515Z"
    }
   },
   "source": [
    "def create_hash_function_d(d, seed):\n",
    "    #Пукает хеш-функцию, которая для целого x возвращает значение в [0, d - 1] - по сути координата\n",
    "    random.seed(seed)\n",
    "    prime = 2147483647  #Тип одно из больших простых, которое < 2^31\n",
    "    a = random.randint(1, prime - 1)\n",
    "    b = random.randint(0, prime - 1)\n",
    "    \n",
    "    def h(x):\n",
    "        return ((a * x + b) % prime) % d\n",
    "    pass\n",
    "    return h\n",
    "\n",
    "\n",
    "def create_hash_function_sgn(seed):\n",
    "    #Пукает хеш-функцию, которая возвращает или -1 или +1 - по сути знак\n",
    "    random.seed(seed)\n",
    "    prime = 2147483647\n",
    "    a = random.randint(1, prime - 1)\n",
    "    b = random.randint(0, prime - 1)\n",
    "    \n",
    "    def h_sgn(x):\n",
    "        val = ((a * x + b) % prime) % 2\n",
    "        return 1 if val == 0 else -1\n",
    "    pass\n",
    "    return h_sgn"
   ],
   "outputs": [],
   "execution_count": 423
  },
  {
   "cell_type": "code",
   "id": "72b80203",
   "metadata": {
    "ExecuteTime": {
     "end_time": "2025-03-22T12:59:31.181008Z",
     "start_time": "2025-03-22T12:59:31.175491Z"
    }
   },
   "source": [
    "hash_function_d = create_hash_function_d(512, seed = 42)\n",
    "hash_function_sgn = create_hash_function_sgn(seed = 42)"
   ],
   "outputs": [],
   "execution_count": 424
  },
  {
   "cell_type": "markdown",
   "id": "e4efab0e",
   "metadata": {},
   "source": [
    "Теперь реализуем функцию, создающую эмбеддинги на основе PPR. Реализуйте «Algoithm 2. InstantEmbedding» из статьи -- еще раз напомним, что время работы алгоритма не должно зависеть от размера графа."
   ]
  },
  {
   "cell_type": "code",
   "id": "4c0bbbbe",
   "metadata": {
    "ExecuteTime": {
     "end_time": "2025-03-22T12:59:31.207119Z",
     "start_time": "2025-03-22T12:59:31.203987Z"
    }
   },
   "source": "from math import log",
   "outputs": [],
   "execution_count": 425
  },
  {
   "cell_type": "code",
   "id": "d56d8c75",
   "metadata": {
    "ExecuteTime": {
     "end_time": "2025-03-22T13:03:01.139134Z",
     "start_time": "2025-03-22T13:03:01.133584Z"
    }
   },
   "source": [
    "def instant_embedding(graph, v, d=512, eps=1e-3, h_d=hash_function_d, h_sgn=hash_function_sgn):\n",
    "    \"\"\"\n",
    "    Create d-dimensional embedding for node v.\n",
    "    \n",
    "    Returns:\n",
    "        w - the embedding - a list with d elements.\n",
    "    \"\"\"\n",
    "    n = len(graph)  \n",
    "    p, r = sparse_approx_ppr(graph, s = {v: 1.0}, alpha = alpha, eps = eps)\n",
    "    \n",
    "    w = [0.0] * d\n",
    "    for j, val in p.items():\n",
    "        weight = max(log(val * n), 0.0) \n",
    "        coord = h_d(j)\n",
    "        sign = h_sgn(j)\n",
    "        w[coord] += sign * weight\n",
    "        \n",
    "    return w\n"
   ],
   "outputs": [],
   "execution_count": 437
  },
  {
   "cell_type": "code",
   "id": "e9dab799",
   "metadata": {
    "ExecuteTime": {
     "end_time": "2025-03-22T13:03:09.257301Z",
     "start_time": "2025-03-22T13:03:04.506507Z"
    }
   },
   "source": [
    "embeddings = np.array([instant_embedding(graph, v) for v in tqdm(range(len(graph)))])"
   ],
   "outputs": [
    {
     "name": "stderr",
     "output_type": "stream",
     "text": [
      "100%|██████████| 7624/7624 [00:04<00:00, 1667.34it/s]\n"
     ]
    }
   ],
   "execution_count": 438
  },
  {
   "cell_type": "markdown",
   "id": "aeca894a",
   "metadata": {},
   "source": [
    "Обучим логистическую регрессию на полученных эмбеддингах:"
   ]
  },
  {
   "cell_type": "code",
   "id": "be464045",
   "metadata": {
    "ExecuteTime": {
     "end_time": "2025-03-22T13:03:16.545154Z",
     "start_time": "2025-03-22T13:03:16.521707Z"
    }
   },
   "source": [
    "embeddings_train = embeddings[train_idx]\n",
    "embeddings_test = embeddings[test_idx]"
   ],
   "outputs": [],
   "execution_count": 441
  },
  {
   "cell_type": "code",
   "id": "0db6f460",
   "metadata": {
    "ExecuteTime": {
     "end_time": "2025-03-22T13:03:18.836587Z",
     "start_time": "2025-03-22T13:03:18.108434Z"
    }
   },
   "source": [
    "logreg = LogisticRegression(penalty='l2', C=0.01, solver='lbfgs', max_iter=1000)\n",
    "logreg.fit(embeddings_train, labels_train)\n",
    "preds = logreg.predict(embeddings_test)\n",
    "accuracy = (preds == labels_test).mean()\n",
    "print(f'InstantEmbedding + logistic regression accuracy: {accuracy:.4f}')"
   ],
   "outputs": [
    {
     "name": "stdout",
     "output_type": "stream",
     "text": [
      "InstantEmbedding + logistic regression accuracy: 0.8047\n"
     ]
    }
   ],
   "execution_count": 442
  },
  {
   "cell_type": "markdown",
   "id": "c583fa3e-39b3-4984-8803-9c7c12c24a4a",
   "metadata": {},
   "source": [
    "Вы должны получить accuracy выше 0.79. Как можно заметить, нам удалось уменьшить размерность эмбеддинга без существенных потерь точности модели"
   ]
  }
 ],
 "metadata": {
  "kernelspec": {
   "display_name": "DataSphere Kernel",
   "language": "python",
   "name": "python3"
  },
  "language_info": {
   "codemirror_mode": {
    "name": "ipython",
    "version": 3
   },
   "file_extension": ".py",
   "mimetype": "text/x-python",
   "name": "python",
   "nbconvert_exporter": "python",
   "pygments_lexer": "ipython3",
   "version": "3.10.12"
  }
 },
 "nbformat": 4,
 "nbformat_minor": 5
}
